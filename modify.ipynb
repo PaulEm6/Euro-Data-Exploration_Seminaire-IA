{
 "cells": [
  {
   "cell_type": "code",
   "execution_count": 7,
   "metadata": {},
   "outputs": [
    {
     "data": {
      "text/plain": [
       "'Socio_Economic Stats\\\\Tourism\\\\tranpose_Tourism.csv'"
      ]
     },
     "execution_count": 7,
     "metadata": {},
     "output_type": "execute_result"
    }
   ],
   "source": [
    "import pandas as pd\n",
    "\n",
    "# Load the CSV file\n",
    "file_path = \"Socio_Economic Stats\\Tourism\\Tourism.csv\"  # Placeholder path; update with actual file path\n",
    "data = pd.read_csv(file_path)\n",
    "\n",
    "# Transpose the DataFrame\n",
    "transposed_data = data.transpose()\n",
    "\n",
    "# Save the transposed DataFrame to a new CSV file\n",
    "transposed_file_path = r\"Socio_Economic Stats\\Tourism\\tranpose_Tourism.csv\"\n",
    "transposed_data.to_csv(transposed_file_path, header=False)\n",
    "\n",
    "transposed_file_path\n"
   ]
  }
 ],
 "metadata": {
  "kernelspec": {
   "display_name": "Python 3",
   "language": "python",
   "name": "python3"
  },
  "language_info": {
   "codemirror_mode": {
    "name": "ipython",
    "version": 3
   },
   "file_extension": ".py",
   "mimetype": "text/x-python",
   "name": "python",
   "nbconvert_exporter": "python",
   "pygments_lexer": "ipython3",
   "version": "3.11.3"
  }
 },
 "nbformat": 4,
 "nbformat_minor": 2
}
