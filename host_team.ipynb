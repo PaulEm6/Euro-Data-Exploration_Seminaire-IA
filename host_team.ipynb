{
 "cells": [
  {
   "cell_type": "code",
   "execution_count": 9,
   "metadata": {},
   "outputs": [
    {
     "name": "stdout",
     "output_type": "stream",
     "text": [
      "Filtered dataset with 'host_win' column:\n",
      "      home_team            away_team home_team_code away_team_code  \\\n",
      "0      Portugal               France            POR            FRA   \n",
      "1       Germany               France            GER            FRA   \n",
      "3        France              Iceland            FRA            ISL   \n",
      "11       France  Republic of Ireland            FRA            IRL   \n",
      "25  Switzerland               France            SUI            FRA   \n",
      "\n",
      "    home_score  away_score  home_penalty  away_penalty  home_score_total  \\\n",
      "0          0.0         0.0           NaN           NaN               1.0   \n",
      "1          0.0         2.0           NaN           NaN               0.0   \n",
      "3          5.0         2.0           NaN           NaN               5.0   \n",
      "11         2.0         1.0           NaN           NaN               2.0   \n",
      "25         0.0         0.0           NaN           NaN               0.0   \n",
      "\n",
      "    away_score_total  ... penalties  \\\n",
      "0                0.0  ...       NaN   \n",
      "1                2.0  ...       NaN   \n",
      "3                2.0  ...       NaN   \n",
      "11               1.0  ...       NaN   \n",
      "25               0.0  ...       NaN   \n",
      "\n",
      "                                            red_cards  \\\n",
      "0                                                 NaN   \n",
      "1                                                 NaN   \n",
      "3                                                 NaN   \n",
      "11  [{'phase': 'SECOND_HALF', 'time': {'minute': 6...   \n",
      "25                                                NaN   \n",
      "\n",
      "                                        game_referees     stadium_city  \\\n",
      "0   [{'name': 'Pierluigi Collina', 'role': 'REFERE...      Saint-Denis   \n",
      "1   [{'name': 'Antonio Damato', 'role': 'ADDITIONA...        Marseille   \n",
      "3   [{'name': 'Björn Kuipers', 'role': 'REFEREE', ...      Saint-Denis   \n",
      "11  [{'name': 'Bo Karlsson', 'role': 'REFEREE_OBSE...             Lyon   \n",
      "25  [{'name': 'Damir Skomina', 'role': 'REFEREE', ...  Lille Métropole   \n",
      "\n",
      "           stadium_name   stadium_name_media stadium_name_official  \\\n",
      "0       Stade de France      Stade de France       Stade de France   \n",
      "1    Stade de Marseille   Stade de Marseille    Stade de Marseille   \n",
      "3       Stade de France      Stade de France       Stade de France   \n",
      "11           OL Stadium     Groupama Stadium            OL Stadium   \n",
      "25  Stade Pierre Mauroy  Stade Pierre Mauroy   Stade Pierre Mauroy   \n",
      "\n",
      "     stadium_name_event                 stadium_name_sponsor host_win  \n",
      "0       Stade de France                      Stade de France        0  \n",
      "1    Stade de Marseille                     Orange Vélodrome        1  \n",
      "3       Stade de France                      Stade de France        1  \n",
      "11           OL Stadium                     Groupama Stadium        1  \n",
      "25  Stade Pierre Mauroy  Decathlon Arena Stade Pierre Mauroy        0  \n",
      "\n",
      "[5 rows x 47 columns]\n"
     ]
    },
    {
     "name": "stderr",
     "output_type": "stream",
     "text": [
      "C:\\Users\\paule\\AppData\\Local\\Temp\\ipykernel_21904\\185828776.py:11: SettingWithCopyWarning: \n",
      "A value is trying to be set on a copy of a slice from a DataFrame.\n",
      "Try using .loc[row_indexer,col_indexer] = value instead\n",
      "\n",
      "See the caveats in the documentation: https://pandas.pydata.org/pandas-docs/stable/user_guide/indexing.html#returning-a-view-versus-a-copy\n",
      "  filtered_df['host_win'] = np.where(\n"
     ]
    }
   ],
   "source": [
    "import pandas as pd\n",
    "import numpy as np\n",
    "\n",
    "# Load the dataset\n",
    "df = pd.read_csv(r'Data 1960 2020\\2016.csv')\n",
    "\n",
    "# Filter the DataFrame to include only rows where the stadium country code matches either the home team code or the away team code\n",
    "filtered_df = df[(df['stadium_country_code'] == df['home_team_code']) | (df['stadium_country_code'] == df['away_team_code'])]\n",
    "\n",
    "# Add the 'host_win' column based on the specified conditions\n",
    "filtered_df['host_win'] = np.where(\n",
    "    (filtered_df['stadium_country_code'] == filtered_df['home_team_code']) & (filtered_df['winner'] == filtered_df['home_team']),\n",
    "    1,\n",
    "    np.where(\n",
    "        (filtered_df['stadium_country_code'] == filtered_df['away_team_code']) & (filtered_df['winner'] == filtered_df['away_team']),\n",
    "        1,\n",
    "        0\n",
    "    )\n",
    ")\n",
    "\n",
    "# Display the filtered dataset with the new column\n",
    "print(\"Filtered dataset with 'host_win' column:\")\n",
    "print(filtered_df.head())\n",
    "\n",
    "# Save the filtered dataset with the new column to a new CSV file\n",
    "filtered_df.to_csv('filtered_football_matches_with_host_win.csv', index=False)\n"
   ]
  }
 ],
 "metadata": {
  "kernelspec": {
   "display_name": "Python 3",
   "language": "python",
   "name": "python3"
  },
  "language_info": {
   "codemirror_mode": {
    "name": "ipython",
    "version": 3
   },
   "file_extension": ".py",
   "mimetype": "text/x-python",
   "name": "python",
   "nbconvert_exporter": "python",
   "pygments_lexer": "ipython3",
   "version": "3.11.3"
  }
 },
 "nbformat": 4,
 "nbformat_minor": 2
}
