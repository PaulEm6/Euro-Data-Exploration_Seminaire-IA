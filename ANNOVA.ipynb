{
 "cells": [
  {
   "cell_type": "code",
   "execution_count": null,
   "metadata": {},
   "outputs": [],
   "source": [
    "import pandas as pd\n",
    "import numpy as np\n",
    "from scipy.stats import f_oneway\n",
    "import matplotlib.pyplot as plt\n",
    "import seaborn as sns\n",
    "\n",
    "# Load the dataset\n",
    "df = pd.read_csv(r'Data 1960 2020\\2020.csv')\n",
    "\n",
    "# Preprocess the data\n",
    "df.fillna(0, inplace=True)\n",
    "\n",
    "# Identify host nation matches (either home or away team is the host)\n",
    "df['is_host'] = df.apply(lambda row: row['home_team_code'] == row['stadium_country_code'] or row['away_team_code'] == row['stadium_country_code'], axis=1)\n",
    "\n",
    "# Encode round mode (assuming 'round_mode' has string values like 'Group Stage', 'Quarter-Finals', etc.)\n",
    "round_mode_mapping = {\n",
    "    'Group Stage': 1,\n",
    "    'Round of 16': 2,\n",
    "    'Quarter-Finals': 3,\n",
    "    'Semi-Finals': 4,\n",
    "    'Final': 5\n",
    "}\n",
    "\n",
    "df['round_mode_encoded'] = df['round_mode'].map(round_mode_mapping)\n",
    "\n"
   ]
  },
  {
   "cell_type": "code",
   "execution_count": null,
   "metadata": {},
   "outputs": [],
   "source": [
    "# Calculate total goals scored in the match\n",
    "df['goals_scored'] = df['home_score'] + df['away_score']\n",
    "\n",
    "# Separate data into host and non-host matches\n",
    "host_goals = df[df['is_host']]['goals_scored']\n",
    "non_host_goals = df[~df['is_host']]['goals_scored']\n",
    "\n",
    "host_attendance = df[df['is_host']]['match_attendance']\n",
    "non_host_attendance = df[~df['is_host']]['match_attendance']\n",
    "\n",
    "host_round_mode = df[df['is_host']]['round_mode_encoded']\n",
    "non_host_round_mode = df[~df['is_host']]['round_mode_encoded']\n",
    "\n",
    "# Perform ANOVA for goals scored\n",
    "anova_goals = f_oneway(host_goals, non_host_goals)\n",
    "print(f'ANOVA for Goals Scored: F={anova_goals.statistic}, p={anova_goals.pvalue}')\n",
    "\n",
    "# Perform ANOVA for attendance\n",
    "anova_attendance = f_oneway(host_attendance, non_host_attendance)\n",
    "print(f'ANOVA for Attendance: F={anova_attendance.statistic}, p={anova_attendance.pvalue}')\n",
    "\n",
    "# Perform ANOVA for round mode\n",
    "anova_round_mode = f_oneway(host_round_mode, non_host_round_mode)\n",
    "print(f'ANOVA for Round Mode: F={anova_round_mode.statistic}, p={anova_round_mode.pvalue}')\n",
    "\n"
   ]
  },
  {
   "cell_type": "code",
   "execution_count": null,
   "metadata": {},
   "outputs": [],
   "source": [
    "# Visualize the results using box plots\n",
    "plt.figure(figsize=(18, 6))\n",
    "\n",
    "# Plot goals scored\n",
    "plt.subplot(1, 3, 1)\n",
    "sns.boxplot(x='is_host', y='goals_scored', data=df)\n",
    "plt.title('Goals Scored: Host vs Non-Host')\n",
    "plt.xlabel('Is Host')\n",
    "plt.ylabel('Goals Scored')\n",
    "\n",
    "# Plot attendance\n",
    "plt.subplot(1, 3, 2)\n",
    "sns.boxplot(x='is_host', y='match_attendance', data=df)\n",
    "plt.title('Attendance: Host vs Non-Host')\n",
    "plt.xlabel('Is Host')\n",
    "plt.ylabel('Attendance')\n",
    "\n",
    "# Plot round mode\n",
    "plt.subplot(1, 3, 3)\n",
    "sns.boxplot(x='is_host', y='round_mode_encoded', data=df)\n",
    "plt.title('Round Mode: Host vs Non-Host')\n",
    "plt.xlabel('Is Host')\n",
    "plt.ylabel('Round Mode')\n",
    "\n",
    "plt.tight_layout()\n",
    "plt.show()"
   ]
  }
 ],
 "metadata": {
  "kernelspec": {
   "display_name": "Python 3",
   "language": "python",
   "name": "python3"
  },
  "language_info": {
   "codemirror_mode": {
    "name": "ipython",
    "version": 3
   },
   "file_extension": ".py",
   "mimetype": "text/x-python",
   "name": "python",
   "nbconvert_exporter": "python",
   "pygments_lexer": "ipython3",
   "version": "3.11.3"
  }
 },
 "nbformat": 4,
 "nbformat_minor": 2
}
