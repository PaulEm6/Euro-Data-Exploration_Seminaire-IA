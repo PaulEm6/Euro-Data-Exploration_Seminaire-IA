{
 "cells": [
  {
   "cell_type": "code",
   "execution_count": 3,
   "metadata": {},
   "outputs": [],
   "source": [
    "import csv\n",
    "\n",
    "# Define the years and corresponding results\n",
    "years = list(range(1960, 2021))\n",
    "results = {\n",
    "    1960: 'Fourth place',\n",
    "    1964: 'Did not qualify',\n",
    "    1968: 'Did not qualify',\n",
    "    1972: 'Did not qualify',\n",
    "    1976: 'Did not qualify',\n",
    "    1980: 'Did not qualify',\n",
    "    1984: 'Winner',\n",
    "    1988: 'Did not qualify',\n",
    "    1992: 'Group stage',\n",
    "    1996: 'Semi-finals',\n",
    "    2000: 'Winner',\n",
    "    2004: 'Quarter-finals',\n",
    "    2008: 'Group stage',\n",
    "    2012: 'Quarter-finals',\n",
    "    2016: 'Runners-up',\n",
    "    2020: 'Round of 16'\n",
    "}\n"
   ]
  },
  {
   "cell_type": "code",
   "execution_count": 4,
   "metadata": {},
   "outputs": [
    {
     "data": {
      "text/plain": [
       "'france_euro_performance_categorical.csv'"
      ]
     },
     "execution_count": 4,
     "metadata": {},
     "output_type": "execute_result"
    }
   ],
   "source": [
    "# Initialize the previous result to the first tournament's result\n",
    "previous_result = results[1960]\n",
    "\n",
    "# Generate the data\n",
    "data = []\n",
    "for year in years:\n",
    "    if year in results:\n",
    "        previous_result = results[year]\n",
    "    data.append([year, previous_result])\n",
    "\n",
    "# Write to CSV\n",
    "file_path = 'france_euro_performance_categorical.csv'\n",
    "with open(file_path, 'w', newline='') as file:\n",
    "    writer = csv.writer(file)\n",
    "    writer.writerow(['Year', 'Performance'])\n",
    "    writer.writerows(data)\n",
    "\n",
    "file_path"
   ]
  }
 ],
 "metadata": {
  "kernelspec": {
   "display_name": "Python 3",
   "language": "python",
   "name": "python3"
  },
  "language_info": {
   "codemirror_mode": {
    "name": "ipython",
    "version": 3
   },
   "file_extension": ".py",
   "mimetype": "text/x-python",
   "name": "python",
   "nbconvert_exporter": "python",
   "pygments_lexer": "ipython3",
   "version": "3.11.3"
  }
 },
 "nbformat": 4,
 "nbformat_minor": 2
}
