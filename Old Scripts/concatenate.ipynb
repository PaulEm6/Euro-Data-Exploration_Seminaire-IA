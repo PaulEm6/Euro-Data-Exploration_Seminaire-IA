{
 "cells": [
  {
   "cell_type": "code",
   "execution_count": 2,
   "metadata": {},
   "outputs": [
    {
     "name": "stdout",
     "output_type": "stream",
     "text": [
      "Combined CSV file saved to: Euro_1960_2020.csv\n"
     ]
    }
   ],
   "source": [
    "import os\n",
    "import pandas as pd\n",
    "\n",
    "# Path to the folder containing CSV files\n",
    "folder_path = 'Data 1960 2020'\n",
    "\n",
    "# Initialize an empty list to store all dataframes\n",
    "all_dataframes = []\n",
    "\n",
    "# Iterate through all files in the folder\n",
    "for file_name in os.listdir(folder_path):\n",
    "    if file_name.endswith('.csv'):\n",
    "        file_path = os.path.join(folder_path, file_name)\n",
    "        # Read each CSV file into a dataframe and append to the list\n",
    "        df = pd.read_csv(file_path)\n",
    "        all_dataframes.append(df)\n",
    "\n",
    "# Concatenate all dataframes vertically\n",
    "combined_df = pd.concat(all_dataframes, axis=0, ignore_index=True)\n",
    "\n",
    "# Output path for the combined CSV file\n",
    "output_file = 'Euro_1960_2020.csv'\n",
    "\n",
    "# Write the combined dataframe to a CSV file\n",
    "combined_df.to_csv(output_file, index=False)\n",
    "\n",
    "print(f'Combined CSV file saved to: {output_file}')\n"
   ]
  }
 ],
 "metadata": {
  "kernelspec": {
   "display_name": "Python 3",
   "language": "python",
   "name": "python3"
  },
  "language_info": {
   "codemirror_mode": {
    "name": "ipython",
    "version": 3
   },
   "file_extension": ".py",
   "mimetype": "text/x-python",
   "name": "python",
   "nbconvert_exporter": "python",
   "pygments_lexer": "ipython3",
   "version": "3.11.3"
  }
 },
 "nbformat": 4,
 "nbformat_minor": 2
}
